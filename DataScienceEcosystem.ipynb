{
 "cells": [
  {
   "cell_type": "markdown",
   "id": "501641de-f421-4b53-b452-37f928ffe383",
   "metadata": {},
   "source": [
    "# Data Science Tools and Ecosystem"
   ]
  },
  {
   "cell_type": "markdown",
   "id": "145370bd-7928-4332-942c-ecfb92dcd009",
   "metadata": {},
   "source": [
    "## Author\n",
    "Emily Mosquera"
   ]
  },
  {
   "cell_type": "markdown",
   "id": "2937bc1c-f25e-4715-87cc-050e714cedfc",
   "metadata": {},
   "source": [
    "In this notebook, Data Science Tools and Ecosystem are summarized."
   ]
  },
  {
   "cell_type": "markdown",
   "id": "14c9ed4c-fa02-4d29-bf59-15dee88dd469",
   "metadata": {},
   "source": [
    "**Objectives:**\n",
    "\n",
    "- Identify commonly used libraries and tools in data science  \n",
    "- Create and format Markdown cells in a notebook  \n",
    "- Understand how to represent data using tables  \n",
    "- Practice converting units and basic programming in Python"
   ]
  },
  {
   "cell_type": "markdown",
   "id": "3a63123d-3e36-42b9-bd23-4402c5dd237f",
   "metadata": {},
   "source": [
    "Some of the popular languages that Data Scientists use are:\n",
    "\n",
    "1. Python\n",
    "2. R\n",
    "3. SQL\n",
    "4. Julia"
   ]
  },
  {
   "cell_type": "markdown",
   "id": "09ee3e01-508b-448d-b55d-a91294cfef91",
   "metadata": {},
   "source": [
    "Some of the commonly used libraries used by Data Scientists include:\n",
    "1. Pandas\n",
    "2. NumPy\n",
    "3. Matplotlib\n",
    "4. Scikit-learn\n"
   ]
  },
  {
   "cell_type": "markdown",
   "id": "136a5ef8-75be-465b-b863-87ac7b702a1d",
   "metadata": {},
   "source": [
    "| Data Science Tools       |\n",
    "|--------------------------|\n",
    "| Jupyter Notebook         |\n",
    "| RStudio                  |\n",
    "| Visual Studio Code       |"
   ]
  },
  {
   "cell_type": "markdown",
   "id": "0755d456-39a5-4d3a-befb-34b1e9db31fb",
   "metadata": {},
   "source": [
    "### Below are a few examples of evaluating arithmetic expressions in Python"
   ]
  },
  {
   "cell_type": "code",
   "execution_count": 5,
   "id": "9eb8c2ca-b677-42fa-a3c2-b0d19f49e159",
   "metadata": {},
   "outputs": [
    {
     "data": {
      "text/plain": [
       "17"
      ]
     },
     "execution_count": 5,
     "metadata": {},
     "output_type": "execute_result"
    }
   ],
   "source": [
    "# This a simple arithmetic expression to mutiply then add integers\n",
    "(3*4)+5"
   ]
  },
  {
   "cell_type": "code",
   "execution_count": 9,
   "id": "5e55016b-4f44-41ef-be8f-f87278f9abd6",
   "metadata": {},
   "outputs": [
    {
     "name": "stdin",
     "output_type": "stream",
     "text": [
      "Enter the number of minutes to convert:  200\n"
     ]
    },
    {
     "name": "stdout",
     "output_type": "stream",
     "text": [
      "200 minutes is equal to 3.33 hours.\n"
     ]
    }
   ],
   "source": [
    "# Converts minutes into hours by dividing by 60\n",
    "min = int(input(\"Enter the number of minutes to convert: \"))\n",
    "hours = min / 60\n",
    "print(f\"{min} minutes is equal to {hours:.2f} hours.\")"
   ]
  },
  {
   "cell_type": "code",
   "execution_count": null,
   "id": "2ec8fdec-266a-42fc-b23e-7eaf661f8ed5",
   "metadata": {},
   "outputs": [],
   "source": []
  }
 ],
 "metadata": {
  "kernelspec": {
   "display_name": "Python 3 (ipykernel)",
   "language": "python",
   "name": "python3"
  },
  "language_info": {
   "codemirror_mode": {
    "name": "ipython",
    "version": 3
   },
   "file_extension": ".py",
   "mimetype": "text/x-python",
   "name": "python",
   "nbconvert_exporter": "python",
   "pygments_lexer": "ipython3",
   "version": "3.12.7"
  }
 },
 "nbformat": 4,
 "nbformat_minor": 5
}
